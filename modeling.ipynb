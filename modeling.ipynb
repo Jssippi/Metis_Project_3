{
 "cells": [
  {
   "cell_type": "code",
   "execution_count": 1,
   "metadata": {},
   "outputs": [],
   "source": [
    "import random\n",
    "import csv\n",
    "import pickle\n",
    "import json\n",
    "import re\n",
    "import time\n",
    "from collections import defaultdict\n",
    "import pandas as pd\n",
    "import matplotlib.pyplot as plt\n",
    "import seaborn as sns\n",
    "import numpy as np\n",
    "import xgboost as xgb\n",
    "from sklearn.linear_model import LogisticRegression, LinearRegression, LassoCV, RidgeCV, Lasso, Ridge\n",
    "from sklearn.naive_bayes import GaussianNB\n",
    "from sklearn.svm import SVC\n",
    "from sklearn.neighbors import KNeighborsClassifier\n",
    "from sklearn.tree import DecisionTreeClassifier\n",
    "from sklearn.ensemble import RandomForestClassifier, RandomForestRegressor\n",
    "from sklearn.model_selection import train_test_split, cross_val_score, KFold, cross_val_predict, learning_curve\n",
    "from sklearn.metrics import f1_score, precision_score, recall_score, accuracy_score, roc_auc_score, confusion_matrix\n",
    "from sklearn.metrics import roc_curve, r2_score, precision_recall_fscore_support\n",
    "from sklearn.preprocessing import StandardScaler, PolynomialFeatures\n",
    "from sklearn.dummy import DummyClassifier\n",
    "from scipy.spatial import distance\n",
    "import imblearn.over_sampling"
   ]
  },
  {
   "cell_type": "code",
   "execution_count": 2,
   "metadata": {},
   "outputs": [],
   "source": [
    "df = pd.read_pickle('LoL_df.pkl')"
   ]
  },
  {
   "cell_type": "code",
   "execution_count": 3,
   "metadata": {},
   "outputs": [
    {
     "data": {
      "text/plain": [
       "Index(['Blue Winner', 'Match Length', 'Blue First Blood', 'Blue First Tower',\n",
       "       'Blue First Inhibitor', 'Blue First Baron', 'Blue First Dragon',\n",
       "       'Blue First Herald', 'Blue Tower Kills', 'Blue Inhibitor Kills',\n",
       "       ' Blue Baron Kills', 'Blue Dragon Kills', 'Blue Rift Herald Kills',\n",
       "       'Red Tower Kills', 'Red Inhibitor Kills', ' Red Baron Kills',\n",
       "       'Red Dragon Kills', 'Red Rift Herald Kills'],\n",
       "      dtype='object')"
      ]
     },
     "execution_count": 3,
     "metadata": {},
     "output_type": "execute_result"
    }
   ],
   "source": [
    "df.columns"
   ]
  },
  {
   "cell_type": "code",
   "execution_count": 4,
   "metadata": {},
   "outputs": [
    {
     "data": {
      "text/html": [
       "<div>\n",
       "<style scoped>\n",
       "    .dataframe tbody tr th:only-of-type {\n",
       "        vertical-align: middle;\n",
       "    }\n",
       "\n",
       "    .dataframe tbody tr th {\n",
       "        vertical-align: top;\n",
       "    }\n",
       "\n",
       "    .dataframe thead th {\n",
       "        text-align: right;\n",
       "    }\n",
       "</style>\n",
       "<table border=\"1\" class=\"dataframe\">\n",
       "  <thead>\n",
       "    <tr style=\"text-align: right;\">\n",
       "      <th></th>\n",
       "      <th>Blue Winner</th>\n",
       "      <th>Match Length</th>\n",
       "      <th>Blue First Blood</th>\n",
       "      <th>Blue First Tower</th>\n",
       "      <th>Blue First Inhibitor</th>\n",
       "      <th>Blue First Baron</th>\n",
       "      <th>Blue First Dragon</th>\n",
       "      <th>Blue First Herald</th>\n",
       "      <th>Blue Tower Kills</th>\n",
       "      <th>Blue Inhibitor Kills</th>\n",
       "      <th>Blue Baron Kills</th>\n",
       "      <th>Blue Dragon Kills</th>\n",
       "      <th>Blue Rift Herald Kills</th>\n",
       "      <th>Red Tower Kills</th>\n",
       "      <th>Red Inhibitor Kills</th>\n",
       "      <th>Red Baron Kills</th>\n",
       "      <th>Red Dragon Kills</th>\n",
       "      <th>Red Rift Herald Kills</th>\n",
       "    </tr>\n",
       "    <tr>\n",
       "      <th>gameId</th>\n",
       "      <th></th>\n",
       "      <th></th>\n",
       "      <th></th>\n",
       "      <th></th>\n",
       "      <th></th>\n",
       "      <th></th>\n",
       "      <th></th>\n",
       "      <th></th>\n",
       "      <th></th>\n",
       "      <th></th>\n",
       "      <th></th>\n",
       "      <th></th>\n",
       "      <th></th>\n",
       "      <th></th>\n",
       "      <th></th>\n",
       "      <th></th>\n",
       "      <th></th>\n",
       "      <th></th>\n",
       "    </tr>\n",
       "  </thead>\n",
       "  <tbody>\n",
       "    <tr>\n",
       "      <th>3508539941</th>\n",
       "      <td>0</td>\n",
       "      <td>35.3</td>\n",
       "      <td>1</td>\n",
       "      <td>1</td>\n",
       "      <td>0</td>\n",
       "      <td>0</td>\n",
       "      <td>0</td>\n",
       "      <td>1</td>\n",
       "      <td>4</td>\n",
       "      <td>0</td>\n",
       "      <td>0</td>\n",
       "      <td>2</td>\n",
       "      <td>1</td>\n",
       "      <td>6</td>\n",
       "      <td>1</td>\n",
       "      <td>1</td>\n",
       "      <td>2</td>\n",
       "      <td>0</td>\n",
       "    </tr>\n",
       "    <tr>\n",
       "      <th>3510680882</th>\n",
       "      <td>0</td>\n",
       "      <td>30.9</td>\n",
       "      <td>0</td>\n",
       "      <td>1</td>\n",
       "      <td>0</td>\n",
       "      <td>0</td>\n",
       "      <td>1</td>\n",
       "      <td>1</td>\n",
       "      <td>7</td>\n",
       "      <td>2</td>\n",
       "      <td>0</td>\n",
       "      <td>2</td>\n",
       "      <td>1</td>\n",
       "      <td>5</td>\n",
       "      <td>2</td>\n",
       "      <td>1</td>\n",
       "      <td>1</td>\n",
       "      <td>0</td>\n",
       "    </tr>\n",
       "    <tr>\n",
       "      <th>3510731607</th>\n",
       "      <td>1</td>\n",
       "      <td>29.0</td>\n",
       "      <td>1</td>\n",
       "      <td>1</td>\n",
       "      <td>1</td>\n",
       "      <td>1</td>\n",
       "      <td>1</td>\n",
       "      <td>1</td>\n",
       "      <td>10</td>\n",
       "      <td>2</td>\n",
       "      <td>1</td>\n",
       "      <td>2</td>\n",
       "      <td>1</td>\n",
       "      <td>1</td>\n",
       "      <td>0</td>\n",
       "      <td>0</td>\n",
       "      <td>1</td>\n",
       "      <td>0</td>\n",
       "    </tr>\n",
       "    <tr>\n",
       "      <th>3512273966</th>\n",
       "      <td>0</td>\n",
       "      <td>23.1</td>\n",
       "      <td>0</td>\n",
       "      <td>0</td>\n",
       "      <td>0</td>\n",
       "      <td>0</td>\n",
       "      <td>1</td>\n",
       "      <td>0</td>\n",
       "      <td>0</td>\n",
       "      <td>0</td>\n",
       "      <td>0</td>\n",
       "      <td>1</td>\n",
       "      <td>0</td>\n",
       "      <td>9</td>\n",
       "      <td>1</td>\n",
       "      <td>1</td>\n",
       "      <td>1</td>\n",
       "      <td>1</td>\n",
       "    </tr>\n",
       "    <tr>\n",
       "      <th>3514387059</th>\n",
       "      <td>0</td>\n",
       "      <td>31.0</td>\n",
       "      <td>0</td>\n",
       "      <td>0</td>\n",
       "      <td>0</td>\n",
       "      <td>0</td>\n",
       "      <td>0</td>\n",
       "      <td>0</td>\n",
       "      <td>3</td>\n",
       "      <td>0</td>\n",
       "      <td>0</td>\n",
       "      <td>0</td>\n",
       "      <td>0</td>\n",
       "      <td>8</td>\n",
       "      <td>1</td>\n",
       "      <td>1</td>\n",
       "      <td>3</td>\n",
       "      <td>1</td>\n",
       "    </tr>\n",
       "  </tbody>\n",
       "</table>\n",
       "</div>"
      ],
      "text/plain": [
       "            Blue Winner  Match Length  Blue First Blood  Blue First Tower  \\\n",
       "gameId                                                                      \n",
       "3508539941            0          35.3                 1                 1   \n",
       "3510680882            0          30.9                 0                 1   \n",
       "3510731607            1          29.0                 1                 1   \n",
       "3512273966            0          23.1                 0                 0   \n",
       "3514387059            0          31.0                 0                 0   \n",
       "\n",
       "            Blue First Inhibitor  Blue First Baron  Blue First Dragon  \\\n",
       "gameId                                                                  \n",
       "3508539941                     0                 0                  0   \n",
       "3510680882                     0                 0                  1   \n",
       "3510731607                     1                 1                  1   \n",
       "3512273966                     0                 0                  1   \n",
       "3514387059                     0                 0                  0   \n",
       "\n",
       "            Blue First Herald  Blue Tower Kills  Blue Inhibitor Kills  \\\n",
       "gameId                                                                  \n",
       "3508539941                  1                 4                     0   \n",
       "3510680882                  1                 7                     2   \n",
       "3510731607                  1                10                     2   \n",
       "3512273966                  0                 0                     0   \n",
       "3514387059                  0                 3                     0   \n",
       "\n",
       "             Blue Baron Kills  Blue Dragon Kills  Blue Rift Herald Kills  \\\n",
       "gameId                                                                     \n",
       "3508539941                  0                  2                       1   \n",
       "3510680882                  0                  2                       1   \n",
       "3510731607                  1                  2                       1   \n",
       "3512273966                  0                  1                       0   \n",
       "3514387059                  0                  0                       0   \n",
       "\n",
       "            Red Tower Kills  Red Inhibitor Kills   Red Baron Kills  \\\n",
       "gameId                                                               \n",
       "3508539941                6                    1                 1   \n",
       "3510680882                5                    2                 1   \n",
       "3510731607                1                    0                 0   \n",
       "3512273966                9                    1                 1   \n",
       "3514387059                8                    1                 1   \n",
       "\n",
       "            Red Dragon Kills  Red Rift Herald Kills  \n",
       "gameId                                               \n",
       "3508539941                 2                      0  \n",
       "3510680882                 1                      0  \n",
       "3510731607                 1                      0  \n",
       "3512273966                 1                      1  \n",
       "3514387059                 3                      1  "
      ]
     },
     "execution_count": 4,
     "metadata": {},
     "output_type": "execute_result"
    }
   ],
   "source": [
    "df.head(5)"
   ]
  },
  {
   "cell_type": "code",
   "execution_count": 41,
   "metadata": {},
   "outputs": [],
   "source": [
    "y = df['Blue Winner']\n",
    "X = df[['Blue First Blood','Blue First Dragon']]"
   ]
  },
  {
   "cell_type": "code",
   "execution_count": 42,
   "metadata": {},
   "outputs": [],
   "source": [
    "X_train_total, X_test, y_train_total, y_test = train_test_split(X, y, test_size = 0.2, random_state = 8675309)\n",
    "X_train, X_val, y_train, y_val = train_test_split(X_train_total, y_train_total, test_size=0.25, random_state=407)"
   ]
  },
  {
   "cell_type": "code",
   "execution_count": 43,
   "metadata": {},
   "outputs": [],
   "source": [
    "std = StandardScaler(with_mean = False)"
   ]
  },
  {
   "cell_type": "code",
   "execution_count": 44,
   "metadata": {},
   "outputs": [],
   "source": [
    "#X_train_total_scale = std.fit_transform(X_train_total)\n",
    "X_train_scale = std.fit_transform(X_train)\n",
    "X_val_scale = std.transform(X_val)\n",
    "X_test_scale = std.transform(X_test)"
   ]
  },
  {
   "cell_type": "code",
   "execution_count": null,
   "metadata": {},
   "outputs": [],
   "source": [
    "#sns.pairplot(df)"
   ]
  },
  {
   "cell_type": "code",
   "execution_count": null,
   "metadata": {},
   "outputs": [],
   "source": []
  },
  {
   "cell_type": "code",
   "execution_count": null,
   "metadata": {},
   "outputs": [],
   "source": []
  },
  {
   "cell_type": "code",
   "execution_count": null,
   "metadata": {},
   "outputs": [],
   "source": [
    "#def rmse(actuals, preds):\n",
    " #   return np.sqrt(((actuals - preds) ** 2).mean())"
   ]
  },
  {
   "cell_type": "code",
   "execution_count": null,
   "metadata": {},
   "outputs": [],
   "source": [
    "rf = RandomForestClassifier(n_estimators = 100, max_features = 1, n_jobs=-1)"
   ]
  },
  {
   "cell_type": "code",
   "execution_count": null,
   "metadata": {},
   "outputs": [],
   "source": [
    "rf.fit(X_train_scale,y_train)"
   ]
  },
  {
   "cell_type": "code",
   "execution_count": null,
   "metadata": {},
   "outputs": [],
   "source": [
    "scores = cross_val_score(rf, X_train_scale, y_train, cv=10, scoring = 'f1')"
   ]
  },
  {
   "cell_type": "code",
   "execution_count": null,
   "metadata": {},
   "outputs": [],
   "source": [
    "scores"
   ]
  },
  {
   "cell_type": "code",
   "execution_count": null,
   "metadata": {},
   "outputs": [],
   "source": [
    "scores"
   ]
  },
  {
   "cell_type": "code",
   "execution_count": null,
   "metadata": {},
   "outputs": [],
   "source": [
    "scores"
   ]
  },
  {
   "cell_type": "code",
   "execution_count": null,
   "metadata": {},
   "outputs": [],
   "source": [
    "scores"
   ]
  },
  {
   "cell_type": "code",
   "execution_count": null,
   "metadata": {},
   "outputs": [],
   "source": [
    "logreg = LogisticRegression(solver='lbfgs')"
   ]
  },
  {
   "cell_type": "code",
   "execution_count": 45,
   "metadata": {},
   "outputs": [],
   "source": [
    "gbm = xgb.XGBClassifier( \n",
    "                       n_estimators=30000, #arbitrary large number\n",
    "                       max_depth=3,\n",
    "                       objective=\"binary:logistic\",\n",
    "                       learning_rate=.1, \n",
    "                       subsample=1,\n",
    "                       min_child_weight=1,\n",
    "                       colsample_bytree=.8\n",
    "                      )"
   ]
  },
  {
   "cell_type": "code",
   "execution_count": 46,
   "metadata": {},
   "outputs": [],
   "source": [
    "eval_set=[(X_train_scale,y_train),(X_val_scale,y_val)]"
   ]
  },
  {
   "cell_type": "code",
   "execution_count": 48,
   "metadata": {},
   "outputs": [
    {
     "name": "stdout",
     "output_type": "stream",
     "text": [
      "[0]\tvalidation_0-error:0.36894\tvalidation_1-error:0.36908\n",
      "Multiple eval metrics have been passed: 'validation_1-error' will be used for early stopping.\n",
      "\n",
      "Will train until validation_1-error hasn't improved in 20 rounds.\n",
      "[1]\tvalidation_0-error:0.36894\tvalidation_1-error:0.36908\n",
      "[2]\tvalidation_0-error:0.36894\tvalidation_1-error:0.36908\n",
      "[3]\tvalidation_0-error:0.36894\tvalidation_1-error:0.36908\n",
      "[4]\tvalidation_0-error:0.36894\tvalidation_1-error:0.36908\n",
      "[5]\tvalidation_0-error:0.36894\tvalidation_1-error:0.36908\n",
      "[6]\tvalidation_0-error:0.36894\tvalidation_1-error:0.36908\n",
      "[7]\tvalidation_0-error:0.36894\tvalidation_1-error:0.36908\n",
      "[8]\tvalidation_0-error:0.36894\tvalidation_1-error:0.36908\n",
      "[9]\tvalidation_0-error:0.36894\tvalidation_1-error:0.36908\n",
      "[10]\tvalidation_0-error:0.36894\tvalidation_1-error:0.36908\n",
      "[11]\tvalidation_0-error:0.36894\tvalidation_1-error:0.36908\n",
      "[12]\tvalidation_0-error:0.36894\tvalidation_1-error:0.36908\n",
      "[13]\tvalidation_0-error:0.36894\tvalidation_1-error:0.36908\n",
      "[14]\tvalidation_0-error:0.36894\tvalidation_1-error:0.36908\n",
      "[15]\tvalidation_0-error:0.36894\tvalidation_1-error:0.36908\n",
      "[16]\tvalidation_0-error:0.36894\tvalidation_1-error:0.36908\n",
      "[17]\tvalidation_0-error:0.36894\tvalidation_1-error:0.36908\n",
      "[18]\tvalidation_0-error:0.36894\tvalidation_1-error:0.36908\n",
      "[19]\tvalidation_0-error:0.36894\tvalidation_1-error:0.36908\n",
      "[20]\tvalidation_0-error:0.36894\tvalidation_1-error:0.36908\n",
      "Stopping. Best iteration:\n",
      "[0]\tvalidation_0-error:0.36894\tvalidation_1-error:0.36908\n",
      "\n"
     ]
    }
   ],
   "source": [
    "boosted_model = gbm.fit( \n",
    "                    #X_train_total, y_train_total,\n",
    "                    X_train_scale, y_train,\n",
    "                    eval_set=eval_set,\n",
    "                    eval_metric='error',\n",
    "                    early_stopping_rounds=20,\n",
    "                    verbose=True #gives output log as below\n",
    "                   )"
   ]
  },
  {
   "cell_type": "code",
   "execution_count": 37,
   "metadata": {},
   "outputs": [
    {
     "data": {
      "text/plain": [
       "'preds = model.predict(D_test)\\nbest_preds = np.asarray([np.argmax(line) for line in preds])\\n\\nprint(\"Precision = {}\".format(precision_score(Y_test, best_preds, average=\\'macro\\')))\\nprint(\"Recall = {}\".format(recall_score(Y_test, best_preds, average=\\'macro\\')))\\nprint(\"Accuracy = {}\".format(accuracy_score(Y_test, best_preds)))'"
      ]
     },
     "execution_count": 37,
     "metadata": {},
     "output_type": "execute_result"
    }
   ],
   "source": [
    "'''preds = model.predict(D_test)\n",
    "best_preds = np.asarray([np.argmax(line) for line in preds])\n",
    "\n",
    "print(\"Precision = {}\".format(precision_score(Y_test, best_preds, average='macro')))\n",
    "print(\"Recall = {}\".format(recall_score(Y_test, best_preds, average='macro')))\n",
    "print(\"Accuracy = {}\".format(accuracy_score(Y_test, best_preds)))'''"
   ]
  },
  {
   "cell_type": "code",
   "execution_count": null,
   "metadata": {},
   "outputs": [],
   "source": [
    "scores = cross_val_score(boosted_model, X_train_scale, y_train, cv=3, scoring = 'f1')"
   ]
  },
  {
   "cell_type": "code",
   "execution_count": 40,
   "metadata": {},
   "outputs": [
    {
     "data": {
      "text/plain": [
       "array([0.75667918, 0.76098198, 0.75989475])"
      ]
     },
     "execution_count": 40,
     "metadata": {},
     "output_type": "execute_result"
    }
   ],
   "source": [
    "scores"
   ]
  },
  {
   "cell_type": "code",
   "execution_count": 39,
   "metadata": {},
   "outputs": [
    {
     "data": {
      "text/plain": [
       "<matplotlib.axes._subplots.AxesSubplot at 0x7f8f53817a90>"
      ]
     },
     "execution_count": 39,
     "metadata": {},
     "output_type": "execute_result"
    },
    {
     "data": {
      "image/png": "[encoded data removed]",
      "text/plain": [
       "<Figure size 432x288 with 1 Axes>"
      ]
     },
     "metadata": {
      "needs_background": "light"
     },
     "output_type": "display_data"
    }
   ],
   "source": [
    "xgb.plot_importance(boosted_model)"
   ]
  },
  {
   "cell_type": "code",
   "execution_count": null,
   "metadata": {},
   "outputs": [],
   "source": [
    "X_train_total_scale = std.fit_transform(X_train_total)\n",
    "kf = KFold(n_splits=10)\n",
    "for train_index, val_index in kf.split(X_train_total_scale):\n",
    "    X_train, X_val = X_train_total_scaletrain_index], X_train_total_scale[val_index]\n",
    "    y_train, y_val = y_train_total.values[train_index], y_train_total.values[val_index]\n",
    "    \n",
    "    gbm = xgb.XGBClassifier( \n",
    "                        n_estimators=30000,\n",
    "                        max_depth=4,\n",
    "                        objective='binary:logistic', \n",
    "                        learning_rate=.05, \n",
    "                        subsample=.8,\n",
    "                        min_child_weight=3,\n",
    "                        colsample_bytree=.8\n",
    "                       )\n",
    "    eval_set=[(X_train,y_train),(X_val,y_val)]\n",
    "    gbm.fit( \n",
    "                    X3_train_scaled, y_train_val, \n",
    "                    eval_set=eval_set,\n",
    "                    eval_metric='error', \n",
    "                    early_stopping_rounds=50,\n",
    "                    verbose=False\n",
    "                   )\n",
    "    print(f1_score(y_val, gbm.predict(X_val, ntree_limit=gbm.best_ntree_limit)) )"
   ]
  },
  {
   "cell_type": "markdown",
   "metadata": {},
   "source": [
    "First Blood, First Dragon, First Herald,\n",
    "First Tower, First Baron, First Inhibitor"
   ]
  }
 ],
 "metadata": {
  "kernelspec": {
   "display_name": "Python 3",
   "language": "python",
   "name": "python3"
  },
  "language_info": {
   "codemirror_mode": {
    "name": "ipython",
    "version": 3
   },
   "file_extension": ".py",
   "mimetype": "text/x-python",
   "name": "python",
   "nbconvert_exporter": "python",
   "pygments_lexer": "ipython3",
   "version": "3.7.6"
  }
 },
 "nbformat": 4,
 "nbformat_minor": 4
}
