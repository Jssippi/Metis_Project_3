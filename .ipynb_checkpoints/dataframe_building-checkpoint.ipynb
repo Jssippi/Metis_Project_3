{
 "cells": [
  {
   "cell_type": "code",
   "execution_count": 1,
   "metadata": {},
   "outputs": [],
   "source": [
    "import numpy as np\n",
    "import pandas as pd\n",
    "import random as rnd\n",
    "import pickle\n",
    "import matplotlib.pyplot as plt\n",
    "import seaborn as sns\n",
    "import numpy as np\n",
    "import json\n",
    "import re \n",
    "import time"
   ]
  },
  {
   "cell_type": "code",
   "execution_count": 2,
   "metadata": {},
   "outputs": [],
   "source": [
    "#base_challengers_df = pd.read_csv('../LOL_dataset/challenger_match_V2.csv')"
   ]
  },
  {
   "cell_type": "code",
   "execution_count": 3,
   "metadata": {},
   "outputs": [
    {
     "name": "stdout",
     "output_type": "stream",
     "text": [
      "CPU times: user 30.7 s, sys: 22.4 s, total: 53.1 s\n",
      "Wall time: 1min 34s\n"
     ]
    }
   ],
   "source": [
    "%%time\n",
    "base_match_df = pd.read_pickle('../LOL_dataset/match_data_version1.pickle')"
   ]
  },
  {
   "cell_type": "markdown",
   "metadata": {},
   "source": [
    "### Cleaning up the match dataframe dropping columns and removing rows that don't apply"
   ]
  },
  {
   "cell_type": "code",
   "execution_count": 232,
   "metadata": {},
   "outputs": [],
   "source": [
    "base_match_df['gameId'] = base_match_df['gameId'].astype('int64')"
   ]
  },
  {
   "cell_type": "code",
   "execution_count": 233,
   "metadata": {},
   "outputs": [],
   "source": [
    "base_match_df.drop_duplicates('gameId',inplace=True)"
   ]
  },
  {
   "cell_type": "code",
   "execution_count": 234,
   "metadata": {},
   "outputs": [],
   "source": [
    "trim_match_df = base_match_df.drop(columns = ['gameCreation', 'gameType', 'gameType', 'gameVersion',\n",
    "                                              'participantIdentities', 'platformId', 'queueId', 'status.message',\n",
    "                                              'status.status_code' ])"
   ]
  },
  {
   "cell_type": "code",
   "execution_count": 235,
   "metadata": {},
   "outputs": [],
   "source": [
    "trim_match_df['gameId'] = trim_match_df['gameId'].astype('int64')"
   ]
  },
  {
   "cell_type": "code",
   "execution_count": 236,
   "metadata": {},
   "outputs": [],
   "source": [
    "trim_match_df = trim_match_df[(trim_match_df['gameMode']=='CLASSIC') & (trim_match_df['mapId']==11.0) & (trim_match_df['seasonId'] == 13.0)]"
   ]
  },
  {
   "cell_type": "code",
   "execution_count": 237,
   "metadata": {},
   "outputs": [],
   "source": [
    "trim_match_df.drop(columns= ['gameMode', 'mapId', 'seasonId'], inplace = True )"
   ]
  },
  {
   "cell_type": "code",
   "execution_count": 238,
   "metadata": {},
   "outputs": [],
   "source": [
    "trim_match_df = trim_match_df[['gameId', 'participants', 'gameDuration']]"
   ]
  },
  {
   "cell_type": "markdown",
   "metadata": {},
   "source": [
    "### Cleaning up winning and losing dataframes to be able to reduce them"
   ]
  },
  {
   "cell_type": "code",
   "execution_count": 239,
   "metadata": {},
   "outputs": [],
   "source": [
    "base_winner_df =  pd.read_pickle('../LOL_dataset/match_winner_data_version1.pickle')"
   ]
  },
  {
   "cell_type": "code",
   "execution_count": 240,
   "metadata": {},
   "outputs": [],
   "source": [
    "base_winner_df.drop_duplicates('gameId',inplace=True)"
   ]
  },
  {
   "cell_type": "code",
   "execution_count": 241,
   "metadata": {},
   "outputs": [],
   "source": [
    "base_loser_df = pd.read_pickle('../LOL_dataset/match_loser_data_version1.pickle')"
   ]
  },
  {
   "cell_type": "code",
   "execution_count": 242,
   "metadata": {},
   "outputs": [],
   "source": [
    "base_loser_df.drop_duplicates('gameId',inplace=True)"
   ]
  },
  {
   "cell_type": "code",
   "execution_count": 243,
   "metadata": {},
   "outputs": [],
   "source": [
    "trim_winner_df = base_winner_df\n",
    "trim_loser_df = base_loser_df"
   ]
  },
  {
   "cell_type": "code",
   "execution_count": 244,
   "metadata": {},
   "outputs": [
    {
     "data": {
      "text/html": [
       "<div>\n",
       "<style scoped>\n",
       "    .dataframe tbody tr th:only-of-type {\n",
       "        vertical-align: middle;\n",
       "    }\n",
       "\n",
       "    .dataframe tbody tr th {\n",
       "        vertical-align: top;\n",
       "    }\n",
       "\n",
       "    .dataframe thead th {\n",
       "        text-align: right;\n",
       "    }\n",
       "</style>\n",
       "<table border=\"1\" class=\"dataframe\">\n",
       "  <thead>\n",
       "    <tr style=\"text-align: right;\">\n",
       "      <th></th>\n",
       "      <th>teamId</th>\n",
       "      <th>win</th>\n",
       "      <th>firstBlood</th>\n",
       "      <th>firstTower</th>\n",
       "      <th>firstInhibitor</th>\n",
       "      <th>firstBaron</th>\n",
       "      <th>firstDragon</th>\n",
       "      <th>firstRiftHerald</th>\n",
       "      <th>towerKills</th>\n",
       "      <th>inhibitorKills</th>\n",
       "      <th>baronKills</th>\n",
       "      <th>dragonKills</th>\n",
       "      <th>vilemawKills</th>\n",
       "      <th>riftHeraldKills</th>\n",
       "      <th>dominionVictoryScore</th>\n",
       "      <th>bans</th>\n",
       "      <th>gameId</th>\n",
       "    </tr>\n",
       "  </thead>\n",
       "  <tbody>\n",
       "    <tr>\n",
       "      <th>0</th>\n",
       "      <td>200</td>\n",
       "      <td>Win</td>\n",
       "      <td>False</td>\n",
       "      <td>True</td>\n",
       "      <td>True</td>\n",
       "      <td>False</td>\n",
       "      <td>True</td>\n",
       "      <td>True</td>\n",
       "      <td>9</td>\n",
       "      <td>1</td>\n",
       "      <td>0</td>\n",
       "      <td>3</td>\n",
       "      <td>0</td>\n",
       "      <td>2</td>\n",
       "      <td>0</td>\n",
       "      <td>[{'championId': 523, 'pickTurn': 6}, {'champio...</td>\n",
       "      <td>4.247263e+09</td>\n",
       "    </tr>\n",
       "    <tr>\n",
       "      <th>1</th>\n",
       "      <td>100</td>\n",
       "      <td>Win</td>\n",
       "      <td>False</td>\n",
       "      <td>False</td>\n",
       "      <td>False</td>\n",
       "      <td>False</td>\n",
       "      <td>True</td>\n",
       "      <td>True</td>\n",
       "      <td>4</td>\n",
       "      <td>0</td>\n",
       "      <td>0</td>\n",
       "      <td>2</td>\n",
       "      <td>0</td>\n",
       "      <td>2</td>\n",
       "      <td>0</td>\n",
       "      <td>[{'championId': 523, 'pickTurn': 1}, {'champio...</td>\n",
       "      <td>4.247156e+09</td>\n",
       "    </tr>\n",
       "    <tr>\n",
       "      <th>2</th>\n",
       "      <td>200</td>\n",
       "      <td>Win</td>\n",
       "      <td>True</td>\n",
       "      <td>True</td>\n",
       "      <td>True</td>\n",
       "      <td>False</td>\n",
       "      <td>True</td>\n",
       "      <td>True</td>\n",
       "      <td>5</td>\n",
       "      <td>1</td>\n",
       "      <td>0</td>\n",
       "      <td>2</td>\n",
       "      <td>0</td>\n",
       "      <td>2</td>\n",
       "      <td>0</td>\n",
       "      <td>[{'championId': 350, 'pickTurn': 6}, {'champio...</td>\n",
       "      <td>4.243963e+09</td>\n",
       "    </tr>\n",
       "    <tr>\n",
       "      <th>3</th>\n",
       "      <td>200</td>\n",
       "      <td>Win</td>\n",
       "      <td>True</td>\n",
       "      <td>True</td>\n",
       "      <td>False</td>\n",
       "      <td>False</td>\n",
       "      <td>False</td>\n",
       "      <td>True</td>\n",
       "      <td>6</td>\n",
       "      <td>0</td>\n",
       "      <td>1</td>\n",
       "      <td>3</td>\n",
       "      <td>0</td>\n",
       "      <td>1</td>\n",
       "      <td>0</td>\n",
       "      <td>[{'championId': 81, 'pickTurn': 6}, {'champion...</td>\n",
       "      <td>4.241678e+09</td>\n",
       "    </tr>\n",
       "  </tbody>\n",
       "</table>\n",
       "</div>"
      ],
      "text/plain": [
       "   teamId  win  firstBlood  firstTower  firstInhibitor  firstBaron  \\\n",
       "0     200  Win       False        True            True       False   \n",
       "1     100  Win       False       False           False       False   \n",
       "2     200  Win        True        True            True       False   \n",
       "3     200  Win        True        True           False       False   \n",
       "\n",
       "   firstDragon  firstRiftHerald  towerKills  inhibitorKills  baronKills  \\\n",
       "0         True             True           9               1           0   \n",
       "1         True             True           4               0           0   \n",
       "2         True             True           5               1           0   \n",
       "3        False             True           6               0           1   \n",
       "\n",
       "   dragonKills  vilemawKills  riftHeraldKills  dominionVictoryScore  \\\n",
       "0            3             0                2                     0   \n",
       "1            2             0                2                     0   \n",
       "2            2             0                2                     0   \n",
       "3            3             0                1                     0   \n",
       "\n",
       "                                                bans        gameId  \n",
       "0  [{'championId': 523, 'pickTurn': 6}, {'champio...  4.247263e+09  \n",
       "1  [{'championId': 523, 'pickTurn': 1}, {'champio...  4.247156e+09  \n",
       "2  [{'championId': 350, 'pickTurn': 6}, {'champio...  4.243963e+09  \n",
       "3  [{'championId': 81, 'pickTurn': 6}, {'champion...  4.241678e+09  "
      ]
     },
     "execution_count": 244,
     "metadata": {},
     "output_type": "execute_result"
    }
   ],
   "source": [
    "trim_winner_df.head(4)"
   ]
  },
  {
   "cell_type": "code",
   "execution_count": 245,
   "metadata": {},
   "outputs": [],
   "source": [
    "trim_winner_df.drop(columns= ['vilemawKills', 'dominionVictoryScore', 'bans'], inplace=True)\n",
    "trim_loser_df.drop(columns= ['vilemawKills', 'dominionVictoryScore', 'bans'], inplace=True)"
   ]
  },
  {
   "cell_type": "code",
   "execution_count": 246,
   "metadata": {},
   "outputs": [],
   "source": [
    "trim_winner_df['gameId'] = trim_winner_df['gameId'].astype('int64')\n",
    "trim_loser_df['gameId'] = trim_loser_df['gameId'].astype('int64')"
   ]
  },
  {
   "cell_type": "code",
   "execution_count": 247,
   "metadata": {},
   "outputs": [],
   "source": [
    "trim_winner_df = pd.DataFrame(trim_winner_df[trim_winner_df['gameId'].isin(trim_match_df['gameId'])])\n",
    "trim_loser_df = pd.DataFrame(trim_loser_df[trim_loser_df['gameId'].isin(trim_match_df['gameId'])])"
   ]
  },
  {
   "cell_type": "code",
   "execution_count": 248,
   "metadata": {},
   "outputs": [],
   "source": [
    "df = pd.DataFrame(index= trim_match_df['gameId'])\n",
    "df.sort_index(inplace=True)"
   ]
  },
  {
   "cell_type": "code",
   "execution_count": 249,
   "metadata": {},
   "outputs": [],
   "source": [
    "trim_winner_df.set_index('gameId',inplace=True)\n",
    "trim_loser_df.set_index('gameId', inplace=True)"
   ]
  },
  {
   "cell_type": "code",
   "execution_count": 250,
   "metadata": {},
   "outputs": [],
   "source": [
    "trim_winner_df.sort_index(inplace=True)\n",
    "trim_loser_df.sort_index(inplace=True)"
   ]
  },
  {
   "cell_type": "code",
   "execution_count": 251,
   "metadata": {},
   "outputs": [
    {
     "data": {
      "text/plain": [
       "(92649, 13)"
      ]
     },
     "execution_count": 251,
     "metadata": {},
     "output_type": "execute_result"
    }
   ],
   "source": [
    "trim_winner_df.shape"
   ]
  },
  {
   "cell_type": "markdown",
   "metadata": {},
   "source": [
    "### Contructing the final dataframe"
   ]
  },
  {
   "cell_type": "code",
   "execution_count": 252,
   "metadata": {},
   "outputs": [],
   "source": [
    "df['Blue Winner'] = trim_winner_df['teamId']"
   ]
  },
  {
   "cell_type": "code",
   "execution_count": 253,
   "metadata": {},
   "outputs": [],
   "source": [
    "trim_match_df.set_index('gameId', inplace=True)\n",
    "trim_match_df.sort_index(inplace=True)\n",
    "df[\"Match Length\"] = round((trim_match_df['gameDuration']/60), ndigits=1)"
   ]
  },
  {
   "cell_type": "code",
   "execution_count": 254,
   "metadata": {},
   "outputs": [],
   "source": [
    "df[['Winner First Blood', 'Winner First Tower', 'Winner First Inhibitor', 'Winner First Baron', 'Winner First Dragon',\n",
    "   'Winner First Herald']] = trim_winner_df[['firstBlood', 'firstTower', 'firstInhibitor', 'firstBaron', 'firstDragon', 'firstRiftHerald']]"
   ]
  },
  {
   "cell_type": "code",
   "execution_count": 255,
   "metadata": {},
   "outputs": [],
   "source": [
    "blue_winner = pd.DataFrame()\n",
    "blue_loser = pd.DataFrame\n",
    "blue_df = pd.DataFrame()\n",
    "red_winner = pd.DataFrame()\n",
    "red_loser = pd.DataFrame\n",
    "red_df = pd.DataFrame()"
   ]
  },
  {
   "cell_type": "code",
   "execution_count": 256,
   "metadata": {},
   "outputs": [],
   "source": [
    "blue_winner = trim_winner_df[trim_winner_df['teamId'] == 100]\n",
    "blue_loser = trim_loser_df[trim_loser_df['teamId'] == 100]\n",
    "red_winner = trim_winner_df[trim_winner_df['teamId'] == 200]\n",
    "red_loser = trim_loser_df[trim_loser_df['teamId'] == 200]"
   ]
  },
  {
   "cell_type": "code",
   "execution_count": 257,
   "metadata": {},
   "outputs": [],
   "source": [
    "blue_winner = pd.DataFrame(blue_winner.drop(columns = ['firstBlood', 'firstTower','firstInhibitor',\n",
    "                                                       'firstBaron', 'firstDragon', 'firstRiftHerald']))\n",
    "red_winner = pd.DataFrame(red_winner.drop(columns = ['firstBlood', 'firstTower','firstInhibitor',\n",
    "                                                       'firstBaron', 'firstDragon', 'firstRiftHerald']))"
   ]
  },
  {
   "cell_type": "code",
   "execution_count": 258,
   "metadata": {},
   "outputs": [],
   "source": [
    "blue_loser = pd.DataFrame(blue_loser.drop(columns = ['firstBlood', 'firstTower','firstInhibitor',\n",
    "                                                       'firstBaron', 'firstDragon', 'firstRiftHerald']))\n",
    "red_loser = pd.DataFrame(red_loser.drop(columns = ['firstBlood', 'firstTower','firstInhibitor',\n",
    "                                                       'firstBaron', 'firstDragon', 'firstRiftHerald']))"
   ]
  },
  {
   "cell_type": "code",
   "execution_count": 259,
   "metadata": {},
   "outputs": [],
   "source": [
    "blue_df = pd.concat([blue_winner, blue_loser])\n",
    "red_df = pd.concat([red_winner, red_loser])"
   ]
  },
  {
   "cell_type": "code",
   "execution_count": 260,
   "metadata": {},
   "outputs": [],
   "source": [
    "blue_df.sort_index(inplace=True)\n",
    "red_df.sort_index(inplace=True)"
   ]
  },
  {
   "cell_type": "code",
   "execution_count": 261,
   "metadata": {},
   "outputs": [],
   "source": [
    "df[['Winner First Blood', 'Winner First Tower', 'Winner First Inhibitor', 'Winner First Baron', 'Winner First Dragon',\n",
    "   'Winner First Herald']] = trim_winner_df[['firstBlood', 'firstTower', 'firstInhibitor', 'firstBaron', 'firstDragon', 'firstRiftHerald']]"
   ]
  },
  {
   "cell_type": "code",
   "execution_count": 262,
   "metadata": {},
   "outputs": [],
   "source": [
    "blue_df.rename(columns= {'towerKills': 'Blue Tower Kills', 'inhibitorKills': 'Blue Inhibitor Kills', 'baronKills': ' Blue Baron Kills',\n",
    "                        'dragonKills' : 'Blue Dragon Kills', 'riftHeraldKills' : 'Blue Rift Herald Kills'}, inplace=True)\n",
    "red_df.rename(columns= {'towerKills': 'Red Tower Kills', 'inhibitorKills': 'Red Inhibitor Kills', 'baronKills': ' Red Baron Kills',\n",
    "                        'dragonKills' : 'Red Dragon Kills', 'riftHeraldKills' : 'Red Rift Herald Kills'}, inplace=True)"
   ]
  },
  {
   "cell_type": "code",
   "execution_count": 263,
   "metadata": {},
   "outputs": [],
   "source": [
    "blue_df.drop(columns =['win', 'teamId'],inplace=True)\n",
    "red_df.drop(columns =['win', 'teamId'],inplace=True)"
   ]
  },
  {
   "cell_type": "code",
   "execution_count": 264,
   "metadata": {},
   "outputs": [],
   "source": [
    "both_counts_df = pd.merge(blue_df, red_df, how = 'outer', on = 'gameId')"
   ]
  },
  {
   "cell_type": "code",
   "execution_count": 265,
   "metadata": {},
   "outputs": [
    {
     "data": {
      "text/plain": [
       "(92649, 10)"
      ]
     },
     "execution_count": 265,
     "metadata": {},
     "output_type": "execute_result"
    }
   ],
   "source": [
    "both_counts_df.shape"
   ]
  },
  {
   "cell_type": "code",
   "execution_count": 266,
   "metadata": {},
   "outputs": [],
   "source": [
    "df *= 1"
   ]
  },
  {
   "cell_type": "code",
   "execution_count": 267,
   "metadata": {},
   "outputs": [
    {
     "data": {
      "text/html": [
       "<div>\n",
       "<style scoped>\n",
       "    .dataframe tbody tr th:only-of-type {\n",
       "        vertical-align: middle;\n",
       "    }\n",
       "\n",
       "    .dataframe tbody tr th {\n",
       "        vertical-align: top;\n",
       "    }\n",
       "\n",
       "    .dataframe thead th {\n",
       "        text-align: right;\n",
       "    }\n",
       "</style>\n",
       "<table border=\"1\" class=\"dataframe\">\n",
       "  <thead>\n",
       "    <tr style=\"text-align: right;\">\n",
       "      <th></th>\n",
       "      <th>Blue Winner</th>\n",
       "      <th>Match Length</th>\n",
       "      <th>Winner First Blood</th>\n",
       "      <th>Winner First Tower</th>\n",
       "      <th>Winner First Inhibitor</th>\n",
       "      <th>Winner First Baron</th>\n",
       "      <th>Winner First Dragon</th>\n",
       "      <th>Winner First Herald</th>\n",
       "    </tr>\n",
       "    <tr>\n",
       "      <th>gameId</th>\n",
       "      <th></th>\n",
       "      <th></th>\n",
       "      <th></th>\n",
       "      <th></th>\n",
       "      <th></th>\n",
       "      <th></th>\n",
       "      <th></th>\n",
       "      <th></th>\n",
       "    </tr>\n",
       "  </thead>\n",
       "  <tbody>\n",
       "    <tr>\n",
       "      <th>3508539941</th>\n",
       "      <td>200</td>\n",
       "      <td>35.3</td>\n",
       "      <td>0</td>\n",
       "      <td>0</td>\n",
       "      <td>1</td>\n",
       "      <td>1</td>\n",
       "      <td>1</td>\n",
       "      <td>0</td>\n",
       "    </tr>\n",
       "    <tr>\n",
       "      <th>3510680882</th>\n",
       "      <td>200</td>\n",
       "      <td>30.9</td>\n",
       "      <td>1</td>\n",
       "      <td>0</td>\n",
       "      <td>1</td>\n",
       "      <td>1</td>\n",
       "      <td>0</td>\n",
       "      <td>0</td>\n",
       "    </tr>\n",
       "    <tr>\n",
       "      <th>3510731607</th>\n",
       "      <td>100</td>\n",
       "      <td>29.0</td>\n",
       "      <td>1</td>\n",
       "      <td>1</td>\n",
       "      <td>1</td>\n",
       "      <td>1</td>\n",
       "      <td>1</td>\n",
       "      <td>1</td>\n",
       "    </tr>\n",
       "  </tbody>\n",
       "</table>\n",
       "</div>"
      ],
      "text/plain": [
       "            Blue Winner  Match Length  Winner First Blood  Winner First Tower  \\\n",
       "gameId                                                                          \n",
       "3508539941          200          35.3                   0                   0   \n",
       "3510680882          200          30.9                   1                   0   \n",
       "3510731607          100          29.0                   1                   1   \n",
       "\n",
       "            Winner First Inhibitor  Winner First Baron  Winner First Dragon  \\\n",
       "gameId                                                                        \n",
       "3508539941                       1                   1                    1   \n",
       "3510680882                       1                   1                    0   \n",
       "3510731607                       1                   1                    1   \n",
       "\n",
       "            Winner First Herald  \n",
       "gameId                           \n",
       "3508539941                    0  \n",
       "3510680882                    0  \n",
       "3510731607                    1  "
      ]
     },
     "execution_count": 267,
     "metadata": {},
     "output_type": "execute_result"
    }
   ],
   "source": [
    "df.head(3)"
   ]
  },
  {
   "cell_type": "code",
   "execution_count": 268,
   "metadata": {},
   "outputs": [],
   "source": [
    "df = pd.merge(df, both_counts_df, on= 'gameId')"
   ]
  },
  {
   "cell_type": "code",
   "execution_count": 269,
   "metadata": {},
   "outputs": [],
   "source": [
    "df['Blue Winner'] = df['Blue Winner'].map({100:'1', 200:'0'})"
   ]
  },
  {
   "cell_type": "code",
   "execution_count": 270,
   "metadata": {},
   "outputs": [],
   "source": [
    "df.to_csv('LoL_df.csv')"
   ]
  },
  {
   "cell_type": "code",
   "execution_count": 271,
   "metadata": {},
   "outputs": [],
   "source": [
    "df.to_pickle('LoL_df.pkl')"
   ]
  },
  {
   "cell_type": "code",
   "execution_count": 287,
   "metadata": {},
   "outputs": [
    {
     "data": {
      "text/html": [
       "<div>\n",
       "<style scoped>\n",
       "    .dataframe tbody tr th:only-of-type {\n",
       "        vertical-align: middle;\n",
       "    }\n",
       "\n",
       "    .dataframe tbody tr th {\n",
       "        vertical-align: top;\n",
       "    }\n",
       "\n",
       "    .dataframe thead th {\n",
       "        text-align: right;\n",
       "    }\n",
       "</style>\n",
       "<table border=\"1\" class=\"dataframe\">\n",
       "  <thead>\n",
       "    <tr style=\"text-align: right;\">\n",
       "      <th></th>\n",
       "      <th>Blue Winner</th>\n",
       "      <th>Match Length</th>\n",
       "      <th>Blue First Blood</th>\n",
       "      <th>Blue First Tower</th>\n",
       "      <th>Blue First Inhibitor</th>\n",
       "      <th>Blue First Baron</th>\n",
       "      <th>Blue First Dragon</th>\n",
       "      <th>Blue First Herald</th>\n",
       "      <th>Blue Tower Kills</th>\n",
       "      <th>Blue Inhibitor Kills</th>\n",
       "      <th>Blue Baron Kills</th>\n",
       "      <th>Blue Dragon Kills</th>\n",
       "      <th>Blue Rift Herald Kills</th>\n",
       "      <th>Red Tower Kills</th>\n",
       "      <th>Red Inhibitor Kills</th>\n",
       "      <th>Red Baron Kills</th>\n",
       "      <th>Red Dragon Kills</th>\n",
       "      <th>Red Rift Herald Kills</th>\n",
       "      <th>Blue First Bloods</th>\n",
       "    </tr>\n",
       "    <tr>\n",
       "      <th>gameId</th>\n",
       "      <th></th>\n",
       "      <th></th>\n",
       "      <th></th>\n",
       "      <th></th>\n",
       "      <th></th>\n",
       "      <th></th>\n",
       "      <th></th>\n",
       "      <th></th>\n",
       "      <th></th>\n",
       "      <th></th>\n",
       "      <th></th>\n",
       "      <th></th>\n",
       "      <th></th>\n",
       "      <th></th>\n",
       "      <th></th>\n",
       "      <th></th>\n",
       "      <th></th>\n",
       "      <th></th>\n",
       "      <th></th>\n",
       "    </tr>\n",
       "  </thead>\n",
       "  <tbody>\n",
       "  </tbody>\n",
       "</table>\n",
       "</div>"
      ],
      "text/plain": [
       "Empty DataFrame\n",
       "Columns: [Blue Winner, Match Length, Blue First Blood, Blue First Tower, Blue First Inhibitor, Blue First Baron, Blue First Dragon, Blue First Herald, Blue Tower Kills, Blue Inhibitor Kills,  Blue Baron Kills, Blue Dragon Kills, Blue Rift Herald Kills, Red Tower Kills, Red Inhibitor Kills,  Red Baron Kills, Red Dragon Kills, Red Rift Herald Kills, Blue First Bloods]\n",
       "Index: []"
      ]
     },
     "execution_count": 287,
     "metadata": {},
     "output_type": "execute_result"
    }
   ],
   "source": [
    "df[df['Blue Winner'] == 0]"
   ]
  },
  {
   "cell_type": "code",
   "execution_count": 289,
   "metadata": {},
   "outputs": [
    {
     "data": {
      "text/plain": [
       "gameId\n",
       "3508539941    0\n",
       "3510680882    0\n",
       "3510731607    1\n",
       "3512273966    0\n",
       "3514387059    0\n",
       "             ..\n",
       "4260984678    0\n",
       "4260995585    0\n",
       "4261001693    0\n",
       "4261012162    0\n",
       "4261013083    0\n",
       "Name: Blue Winner, Length: 92649, dtype: object"
      ]
     },
     "execution_count": 289,
     "metadata": {},
     "output_type": "execute_result"
    }
   ],
   "source": [
    "df['Blue Winner']"
   ]
  },
  {
   "cell_type": "code",
   "execution_count": 273,
   "metadata": {},
   "outputs": [],
   "source": [
    "df.rename(columns = {'Winner First Blood': 'Blue First Blood', 'Winner First Tower':'Blue First Tower',\n",
    "                     'Winner First Inhibitor':'Blue First Inhibitor', 'Winner First Baron':'Blue First Baron', \n",
    "                     'Winner First Dragon':'Blue First Dragon', 'Winner First Herald':'Blue First Herald'},inplace=True)"
   ]
  },
  {
   "cell_type": "code",
   "execution_count": 284,
   "metadata": {},
   "outputs": [
    {
     "ename": "TypeError",
     "evalue": "'int' object is not iterable",
     "output_type": "error",
     "traceback": [
      "\u001b[0;31m---------------------------------------------------------------------------\u001b[0m",
      "\u001b[0;31mTypeError\u001b[0m                                 Traceback (most recent call last)",
      "\u001b[0;32m<ipython-input-284-fd62657f8999>\u001b[0m in \u001b[0;36m<module>\u001b[0;34m\u001b[0m\n\u001b[0;32m----> 1\u001b[0;31m \u001b[0mdf\u001b[0m\u001b[0;34m[\u001b[0m\u001b[0;34m'Blue First Baron'\u001b[0m\u001b[0;34m]\u001b[0m \u001b[0;34m=\u001b[0m \u001b[0mnp\u001b[0m\u001b[0;34m.\u001b[0m\u001b[0mselect\u001b[0m\u001b[0;34m(\u001b[0m\u001b[0mdf\u001b[0m\u001b[0;34m[\u001b[0m\u001b[0;34m'Blue Winner'\u001b[0m\u001b[0;34m]\u001b[0m \u001b[0;34m==\u001b[0m \u001b[0;36m0\u001b[0m\u001b[0;34m,\u001b[0m \u001b[0;36m1\u001b[0m\u001b[0;34m)\u001b[0m\u001b[0;34m\u001b[0m\u001b[0;34m\u001b[0m\u001b[0m\n\u001b[0m",
      "\u001b[0;32m<__array_function__ internals>\u001b[0m in \u001b[0;36mselect\u001b[0;34m(*args, **kwargs)\u001b[0m\n",
      "\u001b[0;32m/usr/local/anaconda3/lib/python3.7/site-packages/numpy/lib/function_base.py\u001b[0m in \u001b[0;36m_select_dispatcher\u001b[0;34m(condlist, choicelist, default)\u001b[0m\n\u001b[1;32m    634\u001b[0m     \u001b[0;32mfor\u001b[0m \u001b[0mc\u001b[0m \u001b[0;32min\u001b[0m \u001b[0mcondlist\u001b[0m\u001b[0;34m:\u001b[0m\u001b[0;34m\u001b[0m\u001b[0;34m\u001b[0m\u001b[0m\n\u001b[1;32m    635\u001b[0m         \u001b[0;32myield\u001b[0m \u001b[0mc\u001b[0m\u001b[0;34m\u001b[0m\u001b[0;34m\u001b[0m\u001b[0m\n\u001b[0;32m--> 636\u001b[0;31m     \u001b[0;32mfor\u001b[0m \u001b[0mc\u001b[0m \u001b[0;32min\u001b[0m \u001b[0mchoicelist\u001b[0m\u001b[0;34m:\u001b[0m\u001b[0;34m\u001b[0m\u001b[0;34m\u001b[0m\u001b[0m\n\u001b[0m\u001b[1;32m    637\u001b[0m         \u001b[0;32myield\u001b[0m \u001b[0mc\u001b[0m\u001b[0;34m\u001b[0m\u001b[0;34m\u001b[0m\u001b[0m\n\u001b[1;32m    638\u001b[0m \u001b[0;34m\u001b[0m\u001b[0m\n",
      "\u001b[0;31mTypeError\u001b[0m: 'int' object is not iterable"
     ]
    }
   ],
   "source": [
    "df['Blue First Baron'] = np.select(df['Blue Winner'] == 0, 1)"
   ]
  },
  {
   "cell_type": "code",
   "execution_count": null,
   "metadata": {},
   "outputs": [],
   "source": []
  },
  {
   "cell_type": "code",
   "execution_count": 277,
   "metadata": {},
   "outputs": [],
   "source": [
    "condlist = [\n",
    "    (df['Blue Winner'] == 0) & (df['Blue First Blood'] == 0),\n",
    "    (df['Blue Winner'] == 0) & (df['Blue First Blood'] == 1)]\n",
    "choicelist = [1, 0]\n",
    "df['Blue First Bloods'] = np.select(condlist, choicelist,default = 12)"
   ]
  },
  {
   "cell_type": "code",
   "execution_count": 231,
   "metadata": {},
   "outputs": [
    {
     "data": {
      "text/plain": [
       "[gameId\n",
       " 3508539941    False\n",
       " 3510680882    False\n",
       " 3510731607    False\n",
       " 3512273966    False\n",
       " 3514387059    False\n",
       "               ...  \n",
       " 4260984678    False\n",
       " 4260995585    False\n",
       " 4261001693    False\n",
       " 4261012162    False\n",
       " 4261013083    False\n",
       " Length: 92649, dtype: bool,\n",
       " gameId\n",
       " 3508539941    False\n",
       " 3510680882    False\n",
       " 3510731607    False\n",
       " 3512273966    False\n",
       " 3514387059    False\n",
       "               ...  \n",
       " 4260984678    False\n",
       " 4260995585    False\n",
       " 4261001693    False\n",
       " 4261012162    False\n",
       " 4261013083    False\n",
       " Length: 92649, dtype: bool]"
      ]
     },
     "execution_count": 231,
     "metadata": {},
     "output_type": "execute_result"
    }
   ],
   "source": [
    "condlist"
   ]
  },
  {
   "cell_type": "code",
   "execution_count": 225,
   "metadata": {},
   "outputs": [],
   "source": [
    "condlist = [\n",
    "    (df['Blue Winner'] == 0) & (df['Blue First Tower'] == 0),\n",
    "    (df['Blue Winner'] == 0) & (df['Blue First Tower'] == 1)]\n",
    "choicelist = [1, 0]\n",
    "df['Blue First Tower'] = np.select(condlist, choicelist)"
   ]
  },
  {
   "cell_type": "code",
   "execution_count": 279,
   "metadata": {},
   "outputs": [],
   "source": [
    "condlist = [\n",
    "    (df['Blue Winner'] == 0) & (df['Blue First Inhibitor'] == 0),\n",
    "    (df['Blue Winner'] == 0) & (df['Blue First Inhibitor'] == 1)]\n",
    "choicelist = [1, 0]\n",
    "df['Blue First Inhibitor'] = np.select(condlist, choicelist)"
   ]
  },
  {
   "cell_type": "code",
   "execution_count": 281,
   "metadata": {},
   "outputs": [],
   "source": [
    "condlist = [\n",
    "    (df['Blue Winner'] == 0) & (df['Blue First Baron'] == 0),\n",
    "    (df['Blue Winner'] == 0) & (df['Blue First Baron'] == 1)]\n",
    "choicelist = [1, 1]\n",
    "df['Blue First Baron'] = np.select(condlist, choicelist)"
   ]
  },
  {
   "cell_type": "code",
   "execution_count": 228,
   "metadata": {},
   "outputs": [],
   "source": [
    "condlist = [\n",
    "    (df['Blue Winner'] == 0) & (df['Blue First Dragon'] == 0),\n",
    "    (df['Blue Winner'] == 0) & (df['Blue First Dragon'] == 1)]\n",
    "choicelist = [1, 0]\n",
    "df['Blue First Dragon'] = np.select(condlist, choicelist)"
   ]
  },
  {
   "cell_type": "code",
   "execution_count": 229,
   "metadata": {},
   "outputs": [],
   "source": [
    "condlist = [\n",
    "    (df['Blue Winner'] == 0) & (df['Blue First Herald'] == 0),\n",
    "    (df['Blue Winner'] == 0) & (df['Blue First Herald'] == 1)]\n",
    "choicelist = [1, 0]\n",
    "df['Blue First Herald'] = np.select(condlist, choicelist)"
   ]
  },
  {
   "cell_type": "code",
   "execution_count": null,
   "metadata": {},
   "outputs": [],
   "source": []
  },
  {
   "cell_type": "code",
   "execution_count": null,
   "metadata": {},
   "outputs": [],
   "source": []
  },
  {
   "cell_type": "code",
   "execution_count": null,
   "metadata": {},
   "outputs": [],
   "source": [
    "#df['Blue Winner'] = df['Blue Winner'].map({100:'1', 200:'0'})"
   ]
  },
  {
   "cell_type": "code",
   "execution_count": null,
   "metadata": {},
   "outputs": [],
   "source": [
    "#df.where(df['Blue Winner'] == 0, (df['Blue First Blood'] - 1), axis = 0)"
   ]
  },
  {
   "cell_type": "code",
   "execution_count": null,
   "metadata": {},
   "outputs": [],
   "source": []
  }
 ],
 "metadata": {
  "kernelspec": {
   "display_name": "Python 3",
   "language": "python",
   "name": "python3"
  },
  "language_info": {
   "codemirror_mode": {
    "name": "ipython",
    "version": 3
   },
   "file_extension": ".py",
   "mimetype": "text/x-python",
   "name": "python",
   "nbconvert_exporter": "python",
   "pygments_lexer": "ipython3",
   "version": "3.7.6"
  }
 },
 "nbformat": 4,
 "nbformat_minor": 4
}
