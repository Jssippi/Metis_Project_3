{
 "cells": [
  {
   "cell_type": "code",
   "execution_count": 1,
   "metadata": {},
   "outputs": [],
   "source": [
    "import numpy as np\n",
    "import pandas as pd\n",
    "import pickle\n",
    "import matplotlib.pyplot as plt\n",
    "import seaborn as sns\n",
    "import numpy as np\n",
    "import json\n",
    "import re \n",
    "import time"
   ]
  },
  {
   "cell_type": "code",
   "execution_count": null,
   "metadata": {},
   "outputs": [],
   "source": [
    "base_match_df = pd.read_pickle('../LOL_dataset/match_data_version1.pickle')"
   ]
  },
  {
   "cell_type": "code",
   "execution_count": null,
   "metadata": {},
   "outputs": [],
   "source": [
    "base_match_df.head(3)"
   ]
  },
  {
   "cell_type": "code",
   "execution_count": 4,
   "metadata": {},
   "outputs": [],
   "source": [
    "initial_winner_df =  pd.read_pickle('../LOL_dataset/match_winner_data_version1.pickle')"
   ]
  },
  {
   "cell_type": "code",
   "execution_count": 5,
   "metadata": {},
   "outputs": [],
   "source": [
    "loser_df = pd.read_pickle('../LOL_dataset/match_loser_data_version1.pickle')"
   ]
  },
  {
   "cell_type": "code",
   "execution_count": 6,
   "metadata": {},
   "outputs": [],
   "source": [
    "challengers_df = pd.read_csv('../LOL_dataset/challenger_match_V2.csv')"
   ]
  },
  {
   "cell_type": "code",
   "execution_count": 7,
   "metadata": {},
   "outputs": [],
   "source": [
    "winner_combo = pd.merge(match_df, winner_df, on='gameId', how= 'left')"
   ]
  },
  {
   "cell_type": "code",
   "execution_count": 8,
   "metadata": {},
   "outputs": [],
   "source": [
    "loser_combo = pd.merge(match_df, loser_df, on = 'gameId', how = 'left')"
   ]
  },
  {
   "cell_type": "code",
   "execution_count": 9,
   "metadata": {},
   "outputs": [
    {
     "data": {
      "text/html": [
       "<div>\n",
       "<style scoped>\n",
       "    .dataframe tbody tr th:only-of-type {\n",
       "        vertical-align: middle;\n",
       "    }\n",
       "\n",
       "    .dataframe tbody tr th {\n",
       "        vertical-align: top;\n",
       "    }\n",
       "\n",
       "    .dataframe thead th {\n",
       "        text-align: right;\n",
       "    }\n",
       "</style>\n",
       "<table border=\"1\" class=\"dataframe\">\n",
       "  <thead>\n",
       "    <tr style=\"text-align: right;\">\n",
       "      <th></th>\n",
       "      <th>gameCreation</th>\n",
       "      <th>gameDuration</th>\n",
       "      <th>gameId</th>\n",
       "      <th>gameMode</th>\n",
       "      <th>gameType</th>\n",
       "      <th>gameVersion</th>\n",
       "      <th>mapId</th>\n",
       "      <th>participantIdentities</th>\n",
       "      <th>participants</th>\n",
       "      <th>platformId</th>\n",
       "      <th>queueId</th>\n",
       "      <th>seasonId</th>\n",
       "      <th>status.message</th>\n",
       "      <th>status.status_code</th>\n",
       "    </tr>\n",
       "  </thead>\n",
       "  <tbody>\n",
       "    <tr>\n",
       "      <th>0</th>\n",
       "      <td>1.585155e+12</td>\n",
       "      <td>1323.0</td>\n",
       "      <td>4.247263e+09</td>\n",
       "      <td>CLASSIC</td>\n",
       "      <td>MATCHED_GAME</td>\n",
       "      <td>10.6.314.4405</td>\n",
       "      <td>11.0</td>\n",
       "      <td>[{'participantId': 1, 'player': {'platformId':...</td>\n",
       "      <td>[{'participantId': 1, 'teamId': 100, 'champion...</td>\n",
       "      <td>KR</td>\n",
       "      <td>420.0</td>\n",
       "      <td>13.0</td>\n",
       "      <td>NaN</td>\n",
       "      <td>NaN</td>\n",
       "    </tr>\n",
       "    <tr>\n",
       "      <th>1</th>\n",
       "      <td>1.585152e+12</td>\n",
       "      <td>1317.0</td>\n",
       "      <td>4.247156e+09</td>\n",
       "      <td>CLASSIC</td>\n",
       "      <td>MATCHED_GAME</td>\n",
       "      <td>10.6.314.4405</td>\n",
       "      <td>11.0</td>\n",
       "      <td>[{'participantId': 1, 'player': {'platformId':...</td>\n",
       "      <td>[{'participantId': 1, 'teamId': 100, 'champion...</td>\n",
       "      <td>KR</td>\n",
       "      <td>420.0</td>\n",
       "      <td>13.0</td>\n",
       "      <td>NaN</td>\n",
       "      <td>NaN</td>\n",
       "    </tr>\n",
       "    <tr>\n",
       "      <th>2</th>\n",
       "      <td>1.585059e+12</td>\n",
       "      <td>932.0</td>\n",
       "      <td>4.243963e+09</td>\n",
       "      <td>CLASSIC</td>\n",
       "      <td>MATCHED_GAME</td>\n",
       "      <td>10.6.313.8894</td>\n",
       "      <td>11.0</td>\n",
       "      <td>[{'participantId': 1, 'player': {'platformId':...</td>\n",
       "      <td>[{'participantId': 1, 'teamId': 100, 'champion...</td>\n",
       "      <td>KR</td>\n",
       "      <td>420.0</td>\n",
       "      <td>13.0</td>\n",
       "      <td>NaN</td>\n",
       "      <td>NaN</td>\n",
       "    </tr>\n",
       "  </tbody>\n",
       "</table>\n",
       "</div>"
      ],
      "text/plain": [
       "   gameCreation  gameDuration        gameId gameMode      gameType  \\\n",
       "0  1.585155e+12        1323.0  4.247263e+09  CLASSIC  MATCHED_GAME   \n",
       "1  1.585152e+12        1317.0  4.247156e+09  CLASSIC  MATCHED_GAME   \n",
       "2  1.585059e+12         932.0  4.243963e+09  CLASSIC  MATCHED_GAME   \n",
       "\n",
       "     gameVersion  mapId                              participantIdentities  \\\n",
       "0  10.6.314.4405   11.0  [{'participantId': 1, 'player': {'platformId':...   \n",
       "1  10.6.314.4405   11.0  [{'participantId': 1, 'player': {'platformId':...   \n",
       "2  10.6.313.8894   11.0  [{'participantId': 1, 'player': {'platformId':...   \n",
       "\n",
       "                                        participants platformId  queueId  \\\n",
       "0  [{'participantId': 1, 'teamId': 100, 'champion...         KR    420.0   \n",
       "1  [{'participantId': 1, 'teamId': 100, 'champion...         KR    420.0   \n",
       "2  [{'participantId': 1, 'teamId': 100, 'champion...         KR    420.0   \n",
       "\n",
       "   seasonId status.message  status.status_code  \n",
       "0      13.0            NaN                 NaN  \n",
       "1      13.0            NaN                 NaN  \n",
       "2      13.0            NaN                 NaN  "
      ]
     },
     "execution_count": 9,
     "metadata": {},
     "output_type": "execute_result"
    }
   ],
   "source": [
    "match_df.head(3)"
   ]
  },
  {
   "cell_type": "code",
   "execution_count": null,
   "metadata": {},
   "outputs": [],
   "source": [
    "match_df.iloc[0,7]"
   ]
  },
  {
   "cell_type": "code",
   "execution_count": null,
   "metadata": {},
   "outputs": [],
   "source": [
    "loser_df.info()"
   ]
  },
  {
   "cell_type": "code",
   "execution_count": 28,
   "metadata": {},
   "outputs": [
    {
     "data": {
      "text/plain": [
       "Index(['teamId', 'win', 'firstBlood', 'firstTower', 'firstInhibitor',\n",
       "       'firstBaron', 'firstDragon', 'firstRiftHerald', 'towerKills',\n",
       "       'inhibitorKills', 'baronKills', 'dragonKills', 'vilemawKills',\n",
       "       'riftHeraldKills', 'dominionVictoryScore', 'bans', 'gameId'],\n",
       "      dtype='object')"
      ]
     },
     "execution_count": 28,
     "metadata": {},
     "output_type": "execute_result"
    }
   ],
   "source": [
    "winner_df.columns"
   ]
  },
  {
   "cell_type": "code",
   "execution_count": 25,
   "metadata": {},
   "outputs": [
    {
     "data": {
      "text/plain": [
       "0.5038546710895074"
      ]
     },
     "execution_count": 25,
     "metadata": {},
     "output_type": "execute_result"
    }
   ],
   "source": [
    "54834 / (54834 + 53995)"
   ]
  },
  {
   "cell_type": "code",
   "execution_count": 10,
   "metadata": {},
   "outputs": [
    {
     "data": {
      "text/html": [
       "<div>\n",
       "<style scoped>\n",
       "    .dataframe tbody tr th:only-of-type {\n",
       "        vertical-align: middle;\n",
       "    }\n",
       "\n",
       "    .dataframe tbody tr th {\n",
       "        vertical-align: top;\n",
       "    }\n",
       "\n",
       "    .dataframe thead th {\n",
       "        text-align: right;\n",
       "    }\n",
       "</style>\n",
       "<table border=\"1\" class=\"dataframe\">\n",
       "  <thead>\n",
       "    <tr style=\"text-align: right;\">\n",
       "      <th></th>\n",
       "      <th>Unnamed: 0</th>\n",
       "      <th>gameId</th>\n",
       "      <th>season</th>\n",
       "      <th>role</th>\n",
       "      <th>lane</th>\n",
       "      <th>accountId</th>\n",
       "    </tr>\n",
       "  </thead>\n",
       "  <tbody>\n",
       "    <tr>\n",
       "      <th>7730</th>\n",
       "      <td>0</td>\n",
       "      <td>4188798209</td>\n",
       "      <td>13</td>\n",
       "      <td>SOLO</td>\n",
       "      <td>MID</td>\n",
       "      <td>6K8m_ynxEtKDTduCcLGi6ir6T41AwYeT5BtPZygcPVD6zok</td>\n",
       "    </tr>\n",
       "    <tr>\n",
       "      <th>7731</th>\n",
       "      <td>1</td>\n",
       "      <td>4188832113</td>\n",
       "      <td>13</td>\n",
       "      <td>SOLO</td>\n",
       "      <td>TOP</td>\n",
       "      <td>6K8m_ynxEtKDTduCcLGi6ir6T41AwYeT5BtPZygcPVD6zok</td>\n",
       "    </tr>\n",
       "    <tr>\n",
       "      <th>7732</th>\n",
       "      <td>2</td>\n",
       "      <td>4188662882</td>\n",
       "      <td>13</td>\n",
       "      <td>SOLO</td>\n",
       "      <td>TOP</td>\n",
       "      <td>6K8m_ynxEtKDTduCcLGi6ir6T41AwYeT5BtPZygcPVD6zok</td>\n",
       "    </tr>\n",
       "    <tr>\n",
       "      <th>7733</th>\n",
       "      <td>3</td>\n",
       "      <td>4188520928</td>\n",
       "      <td>13</td>\n",
       "      <td>SOLO</td>\n",
       "      <td>TOP</td>\n",
       "      <td>6K8m_ynxEtKDTduCcLGi6ir6T41AwYeT5BtPZygcPVD6zok</td>\n",
       "    </tr>\n",
       "    <tr>\n",
       "      <th>7734</th>\n",
       "      <td>4</td>\n",
       "      <td>4188401025</td>\n",
       "      <td>13</td>\n",
       "      <td>SOLO</td>\n",
       "      <td>TOP</td>\n",
       "      <td>6K8m_ynxEtKDTduCcLGi6ir6T41AwYeT5BtPZygcPVD6zok</td>\n",
       "    </tr>\n",
       "    <tr>\n",
       "      <th>...</th>\n",
       "      <td>...</td>\n",
       "      <td>...</td>\n",
       "      <td>...</td>\n",
       "      <td>...</td>\n",
       "      <td>...</td>\n",
       "      <td>...</td>\n",
       "    </tr>\n",
       "    <tr>\n",
       "      <th>37486</th>\n",
       "      <td>95</td>\n",
       "      <td>4092685346</td>\n",
       "      <td>13</td>\n",
       "      <td>SOLO</td>\n",
       "      <td>MID</td>\n",
       "      <td>6K8m_ynxEtKDTduCcLGi6ir6T41AwYeT5BtPZygcPVD6zok</td>\n",
       "    </tr>\n",
       "    <tr>\n",
       "      <th>37487</th>\n",
       "      <td>96</td>\n",
       "      <td>4092207532</td>\n",
       "      <td>13</td>\n",
       "      <td>SOLO</td>\n",
       "      <td>MID</td>\n",
       "      <td>6K8m_ynxEtKDTduCcLGi6ir6T41AwYeT5BtPZygcPVD6zok</td>\n",
       "    </tr>\n",
       "    <tr>\n",
       "      <th>37488</th>\n",
       "      <td>97</td>\n",
       "      <td>4092224911</td>\n",
       "      <td>13</td>\n",
       "      <td>SOLO</td>\n",
       "      <td>MID</td>\n",
       "      <td>6K8m_ynxEtKDTduCcLGi6ir6T41AwYeT5BtPZygcPVD6zok</td>\n",
       "    </tr>\n",
       "    <tr>\n",
       "      <th>37489</th>\n",
       "      <td>98</td>\n",
       "      <td>4092182240</td>\n",
       "      <td>13</td>\n",
       "      <td>SOLO</td>\n",
       "      <td>TOP</td>\n",
       "      <td>6K8m_ynxEtKDTduCcLGi6ir6T41AwYeT5BtPZygcPVD6zok</td>\n",
       "    </tr>\n",
       "    <tr>\n",
       "      <th>37490</th>\n",
       "      <td>99</td>\n",
       "      <td>4092125850</td>\n",
       "      <td>13</td>\n",
       "      <td>SOLO</td>\n",
       "      <td>TOP</td>\n",
       "      <td>6K8m_ynxEtKDTduCcLGi6ir6T41AwYeT5BtPZygcPVD6zok</td>\n",
       "    </tr>\n",
       "  </tbody>\n",
       "</table>\n",
       "<p>200 rows × 6 columns</p>\n",
       "</div>"
      ],
      "text/plain": [
       "       Unnamed: 0      gameId  season  role lane  \\\n",
       "7730            0  4188798209      13  SOLO  MID   \n",
       "7731            1  4188832113      13  SOLO  TOP   \n",
       "7732            2  4188662882      13  SOLO  TOP   \n",
       "7733            3  4188520928      13  SOLO  TOP   \n",
       "7734            4  4188401025      13  SOLO  TOP   \n",
       "...           ...         ...     ...   ...  ...   \n",
       "37486          95  4092685346      13  SOLO  MID   \n",
       "37487          96  4092207532      13  SOLO  MID   \n",
       "37488          97  4092224911      13  SOLO  MID   \n",
       "37489          98  4092182240      13  SOLO  TOP   \n",
       "37490          99  4092125850      13  SOLO  TOP   \n",
       "\n",
       "                                             accountId  \n",
       "7730   6K8m_ynxEtKDTduCcLGi6ir6T41AwYeT5BtPZygcPVD6zok  \n",
       "7731   6K8m_ynxEtKDTduCcLGi6ir6T41AwYeT5BtPZygcPVD6zok  \n",
       "7732   6K8m_ynxEtKDTduCcLGi6ir6T41AwYeT5BtPZygcPVD6zok  \n",
       "7733   6K8m_ynxEtKDTduCcLGi6ir6T41AwYeT5BtPZygcPVD6zok  \n",
       "7734   6K8m_ynxEtKDTduCcLGi6ir6T41AwYeT5BtPZygcPVD6zok  \n",
       "...                                                ...  \n",
       "37486  6K8m_ynxEtKDTduCcLGi6ir6T41AwYeT5BtPZygcPVD6zok  \n",
       "37487  6K8m_ynxEtKDTduCcLGi6ir6T41AwYeT5BtPZygcPVD6zok  \n",
       "37488  6K8m_ynxEtKDTduCcLGi6ir6T41AwYeT5BtPZygcPVD6zok  \n",
       "37489  6K8m_ynxEtKDTduCcLGi6ir6T41AwYeT5BtPZygcPVD6zok  \n",
       "37490  6K8m_ynxEtKDTduCcLGi6ir6T41AwYeT5BtPZygcPVD6zok  \n",
       "\n",
       "[200 rows x 6 columns]"
      ]
     },
     "execution_count": 10,
     "metadata": {},
     "output_type": "execute_result"
    }
   ],
   "source": [
    "challengers_df[challengers_df['accountId'] == \"6K8m_ynxEtKDTduCcLGi6ir6T41AwYeT5BtPZygcPVD6zok\"]"
   ]
  },
  {
   "cell_type": "code",
   "execution_count": null,
   "metadata": {},
   "outputs": [],
   "source": [
    "match_df.head(2)"
   ]
  },
  {
   "cell_type": "code",
   "execution_count": null,
   "metadata": {},
   "outputs": [],
   "source": [
    "match_df['participants'].iloc[0][0]"
   ]
  },
  {
   "cell_type": "code",
   "execution_count": null,
   "metadata": {},
   "outputs": [],
   "source": [
    "match_df['participants'].iloc[0][0]['stats']"
   ]
  },
  {
   "cell_type": "code",
   "execution_count": 61,
   "metadata": {},
   "outputs": [
    {
     "data": {
      "text/plain": [
       "Win    108941\n",
       "Name: win, dtype: int64"
      ]
     },
     "execution_count": 61,
     "metadata": {},
     "output_type": "execute_result"
    }
   ],
   "source": [
    "winner_combo['win'].value_counts()"
   ]
  },
  {
   "cell_type": "code",
   "execution_count": 63,
   "metadata": {},
   "outputs": [
    {
     "data": {
      "text/plain": [
       "CLASSIC              92857\n",
       "ARAM                 12061\n",
       "URF                   2196\n",
       "ONEFORALL             1575\n",
       "KINGPORO               122\n",
       "TUTORIAL_MODULE_1       12\n",
       "TUTORIAL_MODULE_2        3\n",
       "TUTORIAL_MODULE_3        3\n",
       "Name: gameMode, dtype: int64"
      ]
     },
     "execution_count": 63,
     "metadata": {},
     "output_type": "execute_result"
    }
   ],
   "source": [
    "match_df['gameMode'].value_counts()"
   ]
  },
  {
   "cell_type": "code",
   "execution_count": null,
   "metadata": {},
   "outputs": [],
   "source": [
    " = df.drop(df[df.score < 50].index)"
   ]
  }
 ],
 "metadata": {
  "kernelspec": {
   "display_name": "Python 3",
   "language": "python",
   "name": "python3"
  },
  "language_info": {
   "codemirror_mode": {
    "name": "ipython",
    "version": 3
   },
   "file_extension": ".py",
   "mimetype": "text/x-python",
   "name": "python",
   "nbconvert_exporter": "python",
   "pygments_lexer": "ipython3",
   "version": "3.7.6"
  }
 },
 "nbformat": 4,
 "nbformat_minor": 4
}
